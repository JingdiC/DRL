{
 "cells": [
  {
   "cell_type": "markdown",
   "metadata": {},
   "source": [
    "# Collaboration and Competition\n",
    "\n",
    "---\n",
    "\n",
    "\n",
    "### Start the Environment\n",
    "\n",
    "Run the next code cell to load a few packages, and start the environment. This might take a few minutes to run."
   ]
  },
  {
   "cell_type": "code",
   "execution_count": 2,
   "metadata": {},
   "outputs": [
    {
     "name": "stderr",
     "output_type": "stream",
     "text": [
      "INFO:unityagents:\n",
      "'Academy' started successfully!\n",
      "Unity Academy name: Academy\n",
      "        Number of Brains: 1\n",
      "        Number of External Brains : 1\n",
      "        Lesson number : 0\n",
      "        Reset Parameters :\n",
      "\t\t\n",
      "Unity brain name: TennisBrain\n",
      "        Number of Visual Observations (per agent): 0\n",
      "        Vector Observation space type: continuous\n",
      "        Vector Observation space size (per agent): 8\n",
      "        Number of stacked Vector Observation: 3\n",
      "        Vector Action space type: continuous\n",
      "        Vector Action space size (per agent): 2\n",
      "        Vector Action descriptions: , \n"
     ]
    }
   ],
   "source": [
    "from unityagents import UnityEnvironment\n",
    "import numpy as np\n",
    "import matplotlib.pyplot as plt\n",
    "%matplotlib inline\n",
    "\n",
    "env = UnityEnvironment(file_name=\"Tennis_Windows_x86_64/Tennis.app\")\n",
    "\n",
    "# get the default brain\n",
    "brain_name = env.brain_names[0]\n",
    "brain = env.brains[brain_name]"
   ]
  },
  {
   "cell_type": "markdown",
   "metadata": {},
   "source": [
    "### Watch a random agent\n",
    "\n",
    "Run the code cells below to watch a random agent."
   ]
  },
  {
   "cell_type": "code",
   "execution_count": 8,
   "metadata": {},
   "outputs": [
    {
     "name": "stdout",
     "output_type": "stream",
     "text": [
      "[0.0052 0.0038]\n"
     ]
    }
   ],
   "source": [
    "rewards_overall = np.zeros(2)\n",
    "\n",
    "for episode in range(100):\n",
    "    env_info = env.reset(train_mode=True)[brain_name]\n",
    "    states = env_info.vector_observations\n",
    "    obs = [agent_obs for agent_obs in states]\n",
    "    \n",
    "    for episode_t in range(1000):\n",
    "        \n",
    "        actions_array = np.random.uniform(-1, 1, 4).reshape(2,2)\n",
    "        \n",
    "        env_info = env.step(actions_array)[brain_name]  \n",
    "\n",
    "        next_states = env_info.vector_observations\n",
    "        next_obs = [agent_obs for agent_obs in next_states]\n",
    "\n",
    "        rewards = np.array(env_info.rewards)\n",
    "        \n",
    "        dones = np.array(env_info.local_done)\n",
    "\n",
    "        obs = next_obs\n",
    "        \n",
    "        rewards_overall += rewards\n",
    "        \n",
    "        if np.any(dones):\n",
    "            break\n",
    "            \n",
    "print(rewards_overall/(episode+1)) # average rewards over 100 episodes with random agent"
   ]
  },
  {
   "cell_type": "code",
   "execution_count": 9,
   "metadata": {},
   "outputs": [],
   "source": [
    "env.close()"
   ]
  }
 ],
 "metadata": {
  "kernelspec": {
   "display_name": "Python 3",
   "language": "python",
   "name": "python3"
  },
  "language_info": {
   "codemirror_mode": {
    "name": "ipython",
    "version": 3
   },
   "file_extension": ".py",
   "mimetype": "text/x-python",
   "name": "python",
   "nbconvert_exporter": "python",
   "pygments_lexer": "ipython3",
   "version": "3.6.8"
  }
 },
 "nbformat": 4,
 "nbformat_minor": 2
}
